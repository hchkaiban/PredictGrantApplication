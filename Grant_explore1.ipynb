{
 "cells": [
  {
   "cell_type": "code",
   "execution_count": 1,
   "metadata": {
    "collapsed": true
   },
   "outputs": [],
   "source": [
    "import pandas as pd\n",
    "import numpy as np\n",
    "import matplotlib.pyplot as plt\n",
    "import time, datetime"
   ]
  },
  {
   "cell_type": "code",
   "execution_count": 2,
   "metadata": {},
   "outputs": [
    {
     "name": "stderr",
     "output_type": "stream",
     "text": [
      "/home/charles/anaconda3/lib/python3.6/site-packages/IPython/core/interactiveshell.py:2717: DtypeWarning: Columns (90,105,119,120,123,124,132,134,135,138,139,147,149,150,153,154,162,164,165,168,169,177,179,183,184,192,194,198,199,207,209,213,214,224,237,239,244) have mixed types. Specify dtype option on import or set low_memory=False.\n",
      "  interactivity=interactivity, compiler=compiler, result=result)\n"
     ]
    }
   ],
   "source": [
    "df = pd.read_csv('data/unimelb_training.csv')"
   ]
  },
  {
   "cell_type": "code",
   "execution_count": 70,
   "metadata": {},
   "outputs": [
    {
     "data": {
      "text/plain": [
       "time.struct_time(tm_year=2008, tm_mon=1, tm_mday=1, tm_hour=0, tm_min=0, tm_sec=0, tm_wday=1, tm_yday=1, tm_isdst=-1)"
      ]
     },
     "execution_count": 70,
     "metadata": {},
     "output_type": "execute_result"
    }
   ],
   "source": [
    "datetime.datetime.strptime('01/01/08','%d/%m/%y').timetuple()"
   ]
  },
  {
   "cell_type": "code",
   "execution_count": 3,
   "metadata": {},
   "outputs": [
    {
     "name": "stdout",
     "output_type": "stream",
     "text": [
      "214\n"
     ]
    }
   ],
   "source": [
    "#check for columns with lot of missing data\n",
    "counter = 0\n",
    "for i in range(len(df.columns)):\n",
    "    if sum(df.loc[:,df.columns[i]].isnull()) > 2000:\n",
    "        counter += 1\n",
    "print(counter)"
   ]
  },
  {
   "cell_type": "code",
   "execution_count": 32,
   "metadata": {},
   "outputs": [
    {
     "name": "stdout",
     "output_type": "stream",
     "text": [
      "Person.ID.1\n",
      "Role.1\n",
      "Year.of.Birth.1\n",
      "Country.of.Birth.1\n",
      "Home.Language.1\n",
      "Dept.No..1\n",
      "Faculty.No..1\n",
      "With.PHD.1\n",
      "No..of.Years.in.Uni.at.Time.of.Grant.1\n",
      "Number.of.Successful.Grant.1\n",
      "Number.of.Unsuccessful.Grant.1\n",
      "A..1\n",
      "A.1\n",
      "B.1\n",
      "C.1\n"
     ]
    }
   ],
   "source": [
    "#check for common variables\n",
    "counter = 0\n",
    "for i in range(27,42):\n",
    "    print(df.columns[i])"
   ]
  },
  {
   "cell_type": "code",
   "execution_count": 5,
   "metadata": {
    "collapsed": true
   },
   "outputs": [],
   "source": [
    "#drop columns with too many missing values\n",
    "index_of_missing = []\n",
    "for i in range(df.shape[0]):\n",
    "    counter = 0\n",
    "    for j in range(1,16):\n",
    "        if (df.loc[i,\"Person.ID.\" + str(j)] == None) | (np.isnan(df.loc[i,\"Person.ID.\" + str(j)])):\n",
    "            counter += 1\n",
    "    if counter == 15:\n",
    "        index_of_missing.append(i)\n",
    "\n",
    "df = df.drop(index_of_missing)\n",
    "df = df.reset_index()"
   ]
  },
  {
   "cell_type": "code",
   "execution_count": 6,
   "metadata": {
    "collapsed": true
   },
   "outputs": [],
   "source": [
    "# clean PHD column and create a column with number of PHD per team\n",
    "for j in range(1,14):\n",
    "    df[\"With.PHD.\" + str(j)] = df[\"With.PHD.\" + str(j)].str.replace('\\s+', '')\n",
    "\n",
    "df[\"#PHD_team\"] = 0\n",
    "    \n",
    "for i in range(df.shape[0]):\n",
    "    total_phd = 0\n",
    "    for j in range(1,14):\n",
    "        if df.loc[i,\"With.PHD.\" + str(j)] == \"Yes\" :\n",
    "            total_phd += 1\n",
    "    df.loc[i,\"#PHD_team\"] += total_phd"
   ]
  },
  {
   "cell_type": "code",
   "execution_count": 29,
   "metadata": {},
   "outputs": [
    {
     "data": {
      "image/png": "[encoded data removed]",
      "text/plain": [
       "<matplotlib.figure.Figure at 0x7f66729ef5c0>"
      ]
     },
     "metadata": {},
     "output_type": "display_data"
    }
   ],
   "source": [
    "#create a chart to check the correlation between number of phd per team and grant given\n",
    "pd.crosstab(df[\"#PHD_team\"], df[\"Grant.Status\"]).apply(lambda r: r/r.sum(), axis=1).plot(kind = 'bar',stacked=True, figsize = (15, 5))\n",
    "plt.title('Probability of getting a grant based on phd per team')\n",
    "plt.xlabel('PHD per team')\n",
    "plt.ylabel('Probability')\n",
    "plt.show()"
   ]
  },
  {
   "cell_type": "code",
   "execution_count": 40,
   "metadata": {
    "collapsed": true
   },
   "outputs": [],
   "source": [
    "# check for the importance of Australian nationality in a team in order to get a grant \n",
    "for j in range(1,14):\n",
    "    df[\"Country.of.Birth.\" + str(j)] = df[\"Country.of.Birth.\" + str(j)].str.replace('\\s+', '')\n",
    "\n",
    "df[\"#Australians\"] = 0\n",
    "    \n",
    "for i in range(df.shape[0]):\n",
    "    total_australians = 0\n",
    "    for j in range(1,16):\n",
    "        if df.loc[i,\"Country.of.Birth.\" + str(j)] == \"Australia\" :\n",
    "            total_australians += 1\n",
    "    df.loc[i,\"#Australians\"] += total_australians"
   ]
  },
  {
   "cell_type": "code",
   "execution_count": 46,
   "metadata": {},
   "outputs": [
    {
     "data": {
      "image/png": "[encoded data removed]",
      "text/plain": [
       "<matplotlib.figure.Figure at 0x7f6672a63e48>"
      ]
     },
     "metadata": {},
     "output_type": "display_data"
    }
   ],
   "source": [
    "#create a chart to check the correlation between number of australians per team and grant given\n",
    "pd.crosstab(df[\"#Australians\"], df[\"Grant.Status\"]).apply(lambda r: r/r.sum(), axis=1).plot(kind = 'bar',stacked=True, figsize = (15, 5))\n",
    "plt.title('Probability of getting a grant based on number of Australians per team')\n",
    "plt.xlabel('Australians per team')\n",
    "plt.ylabel('Probability')\n",
    "plt.show()"
   ]
  },
  {
   "cell_type": "code",
   "execution_count": 98,
   "metadata": {
    "collapsed": true
   },
   "outputs": [],
   "source": [
    "# check for the importance of successfull grant in a team in order to get a grant \n",
    "for j in range(1,16):\n",
    "    df[\"Number.of.Successful.Grant.\" + str(j)] = df[\"Number.of.Successful.Grant.\" + str(j)].fillna(0)\n",
    "    \n",
    "df[\"#succ_grant\"] = 0\n",
    "    \n",
    "for i in range(df.shape[0]):\n",
    "    total_succ_grants = 0\n",
    "    for j in range(1,16):\n",
    "        total_succ_grants += df.loc[i,\"Number.of.Successful.Grant.\" + str(j)]\n",
    "    df.loc[i,\"#succ_grant\"] += total_succ_grants"
   ]
  },
  {
   "cell_type": "code",
   "execution_count": 100,
   "metadata": {},
   "outputs": [
    {
     "data": {
      "image/png": "[encoded data removed]",
      "text/plain": [
       "<matplotlib.figure.Figure at 0x7f667277ae10>"
      ]
     },
     "metadata": {},
     "output_type": "display_data"
    }
   ],
   "source": [
    "#create a chart to check the correlation between number of successfull grant per team and grant given\n",
    "pd.crosstab(df[\"#succ_grant\"], df[\"Grant.Status\"]).apply(lambda r: r/r.sum(), axis=1).plot(kind = 'bar',stacked=True, figsize = (15, 5))\n",
    "plt.title('Probability of getting a grant based on number of successfull grants per team')\n",
    "plt.xlabel('Sucessfull grants per team')\n",
    "plt.ylabel('Probability')\n",
    "plt.show()"
   ]
  },
  {
   "cell_type": "code",
   "execution_count": null,
   "metadata": {
    "collapsed": true
   },
   "outputs": [],
   "source": [
    "regex = 'Role\\..?'"
   ]
  },
  {
   "cell_type": "code",
   "execution_count": 73,
   "metadata": {
    "collapsed": true
   },
   "outputs": [],
   "source": [
    "list1 = []\n",
    "for col in df.filter(regex = regex, axis =1):\n",
    "    list1.append(df[col].unique())\n",
    "list1 = np.hstack(list1)\n",
    "list1 = list(set(list1))[1:]"
   ]
  },
  {
   "cell_type": "code",
   "execution_count": 74,
   "metadata": {},
   "outputs": [
    {
     "data": {
      "text/plain": [
       "['HONVISIT',\n",
       " 'EXTERNAL_ADVISOR',\n",
       " 'DELEGATED_RESEARCHER',\n",
       " 'STUDRES',\n",
       " 'PRINCIPAL_SUPERVISOR',\n",
       " 'STUD_CHIEF_INVESTIGATOR',\n",
       " 'CHIEF_INVESTIGATOR',\n",
       " 'EXT_CHIEF_INVESTIGATOR']"
      ]
     },
     "execution_count": 74,
     "metadata": {},
     "output_type": "execute_result"
    }
   ],
   "source": [
    "list1"
   ]
  },
  {
   "cell_type": "code",
   "execution_count": 6,
   "metadata": {},
   "outputs": [
    {
     "data": {
      "text/plain": [
       "Grant.Application.ID                                        2\n",
       "Grant.Status                                                1\n",
       "Sponsor.Code                                               2B\n",
       "Grant.Category.Code                                       10A\n",
       "Contract.Value.Band...see.note.A                           B \n",
       "Start.date                                           11/11/05\n",
       "RFCD.Code.1                                            280103\n",
       "RFCD.Percentage.1                                          30\n",
       "RFCD.Code.2                                            280106\n",
       "RFCD.Percentage.2                                          30\n",
       "RFCD.Code.3                                            280203\n",
       "RFCD.Percentage.3                                          40\n",
       "RFCD.Code.4                                                 0\n",
       "RFCD.Percentage.4                                           0\n",
       "RFCD.Code.5                                                 0\n",
       "RFCD.Percentage.5                                           0\n",
       "SEO.Code.1                                             700103\n",
       "SEO.Percentage.1                                           50\n",
       "SEO.Code.2                                             700102\n",
       "SEO.Percentage.2                                           50\n",
       "SEO.Code.3                                                  0\n",
       "SEO.Percentage.3                                            0\n",
       "SEO.Code.4                                                  0\n",
       "SEO.Percentage.4                                            0\n",
       "SEO.Code.5                                                  0\n",
       "SEO.Percentage.5                                            0\n",
       "Person.ID.1                                              9067\n",
       "Role.1                                     CHIEF_INVESTIGATOR\n",
       "Year.of.Birth.1                                          1960\n",
       "Country.of.Birth.1                                  Australia\n",
       "                                                  ...        \n",
       "Role.14                                                   NaN\n",
       "Year.of.Birth.14                                          NaN\n",
       "Country.of.Birth.14                                       NaN\n",
       "Home.Language.14                                          NaN\n",
       "Dept.No..14                                               NaN\n",
       "Faculty.No..14                                            NaN\n",
       "With.PHD.14                                               NaN\n",
       "No..of.Years.in.Uni.at.Time.of.Grant.14                   NaN\n",
       "Number.of.Successful.Grant.14                             NaN\n",
       "Number.of.Unsuccessful.Grant.14                           NaN\n",
       "A..14                                                     NaN\n",
       "A.14                                                      NaN\n",
       "B.14                                                      NaN\n",
       "C.14                                                      NaN\n",
       "Person.ID.15                                              NaN\n",
       "Role.15                                                   NaN\n",
       "Year.of.Birth.15                                          NaN\n",
       "Country.of.Birth.15                                       NaN\n",
       "Home.Language.15                                          NaN\n",
       "Dept.No..15                                               NaN\n",
       "Faculty.No..15                                            NaN\n",
       "With.PHD.15                                               NaN\n",
       "No..of.Years.in.Uni.at.Time.of.Grant.15                   NaN\n",
       "Number.of.Successful.Grant.15                             NaN\n",
       "Number.of.Unsuccessful.Grant.15                           NaN\n",
       "A..15                                                     NaN\n",
       "A.15                                                      NaN\n",
       "B.15                                                      NaN\n",
       "C.15                                                      NaN\n",
       "Unnamed: 251                                              NaN\n",
       "Name: 1, Length: 252, dtype: object"
      ]
     },
     "execution_count": 6,
     "metadata": {},
     "output_type": "execute_result"
    }
   ],
   "source": [
    "df.iloc[1]"
   ]
  },
  {
   "cell_type": "code",
   "execution_count": null,
   "metadata": {
    "collapsed": true
   },
   "outputs": [],
   "source": []
  }
 ],
 "metadata": {
  "kernelspec": {
   "display_name": "Python 3",
   "language": "python",
   "name": "python3"
  },
  "language_info": {
   "codemirror_mode": {
    "name": "ipython",
    "version": 3
   },
   "file_extension": ".py",
   "mimetype": "text/x-python",
   "name": "python",
   "nbconvert_exporter": "python",
   "pygments_lexer": "ipython3",
   "version": "3.6.1"
  }
 },
 "nbformat": 4,
 "nbformat_minor": 2
}
